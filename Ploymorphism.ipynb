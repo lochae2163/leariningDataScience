{
 "cells": [
  {
   "cell_type": "code",
   "execution_count": 1,
   "id": "532f8a3d",
   "metadata": {},
   "outputs": [],
   "source": [
    "class data_science:\n",
    "    def syllabus(self):\n",
    "        print(\"This is data science syllabus\")"
   ]
  },
  {
   "cell_type": "code",
   "execution_count": 2,
   "id": "498092ab",
   "metadata": {},
   "outputs": [],
   "source": [
    "class data_analysis:\n",
    "    def syllabus(self):\n",
    "        print(\"This is data analysis syllabus\")"
   ]
  },
  {
   "cell_type": "code",
   "execution_count": 3,
   "id": "cc6008d4",
   "metadata": {},
   "outputs": [],
   "source": [
    "def class_parcer(class_obj):\n",
    "    for i in class_obj:\n",
    "        i.syllabus()"
   ]
  },
  {
   "cell_type": "code",
   "execution_count": 4,
   "id": "18ddf523",
   "metadata": {},
   "outputs": [],
   "source": [
    "data_science = data_science()"
   ]
  },
  {
   "cell_type": "code",
   "execution_count": 5,
   "id": "86ffac64",
   "metadata": {},
   "outputs": [],
   "source": [
    "data_analysis = data_analysis()"
   ]
  },
  {
   "cell_type": "code",
   "execution_count": 6,
   "id": "8485633b",
   "metadata": {},
   "outputs": [],
   "source": [
    "class_obj = [data_science, data_analysis]"
   ]
  },
  {
   "cell_type": "code",
   "execution_count": 7,
   "id": "a645fe9b",
   "metadata": {},
   "outputs": [
    {
     "name": "stdout",
     "output_type": "stream",
     "text": [
      "This is data science syllabus\n",
      "This is data analysis syllabus\n"
     ]
    }
   ],
   "source": [
    "class_parcer(class_obj)"
   ]
  },
  {
   "cell_type": "code",
   "execution_count": null,
   "id": "918f41d9",
   "metadata": {},
   "outputs": [],
   "source": []
  }
 ],
 "metadata": {
  "kernelspec": {
   "display_name": "Python 3 (ipykernel)",
   "language": "python",
   "name": "python3"
  },
  "language_info": {
   "codemirror_mode": {
    "name": "ipython",
    "version": 3
   },
   "file_extension": ".py",
   "mimetype": "text/x-python",
   "name": "python",
   "nbconvert_exporter": "python",
   "pygments_lexer": "ipython3",
   "version": "3.8.8"
  }
 },
 "nbformat": 4,
 "nbformat_minor": 5
}
