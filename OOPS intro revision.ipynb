{
 "cells": [
  {
   "cell_type": "code",
   "execution_count": 4,
   "id": "b381f096",
   "metadata": {},
   "outputs": [],
   "source": [
    "a = 1"
   ]
  },
  {
   "cell_type": "code",
   "execution_count": 5,
   "id": "378a5f6f",
   "metadata": {},
   "outputs": [
    {
     "name": "stdout",
     "output_type": "stream",
     "text": [
      "<class 'int'>\n"
     ]
    }
   ],
   "source": [
    "print(type(a))"
   ]
  },
  {
   "cell_type": "code",
   "execution_count": 6,
   "id": "19490828",
   "metadata": {},
   "outputs": [
    {
     "name": "stdout",
     "output_type": "stream",
     "text": [
      "<class 'str'>\n"
     ]
    }
   ],
   "source": [
    "print(type(\"lochan\"))"
   ]
  },
  {
   "cell_type": "code",
   "execution_count": 8,
   "id": "002e6dce",
   "metadata": {},
   "outputs": [],
   "source": [
    "class test :\n",
    "    pass"
   ]
  },
  {
   "cell_type": "code",
   "execution_count": 9,
   "id": "a9642e4d",
   "metadata": {},
   "outputs": [],
   "source": [
    "a = test()"
   ]
  },
  {
   "cell_type": "code",
   "execution_count": 10,
   "id": "251d48c6",
   "metadata": {},
   "outputs": [
    {
     "data": {
      "text/plain": [
       "__main__.test"
      ]
     },
     "execution_count": 10,
     "metadata": {},
     "output_type": "execute_result"
    }
   ],
   "source": [
    "type(a)"
   ]
  },
  {
   "cell_type": "code",
   "execution_count": 11,
   "id": "dc7c23a7",
   "metadata": {},
   "outputs": [
    {
     "name": "stdout",
     "output_type": "stream",
     "text": [
      "<class '__main__.test'>\n"
     ]
    }
   ],
   "source": [
    "print(type(a))"
   ]
  },
  {
   "cell_type": "code",
   "execution_count": 17,
   "id": "f4bef740",
   "metadata": {},
   "outputs": [],
   "source": [
    "class pwskills:\n",
    "    def welcome_msg(self):\n",
    "        print(\"Welcome to pwskills\")\n",
    "        "
   ]
  },
  {
   "cell_type": "code",
   "execution_count": 18,
   "id": "f45b997f",
   "metadata": {},
   "outputs": [],
   "source": [
    "akarshan = pwskills()"
   ]
  },
  {
   "cell_type": "code",
   "execution_count": 19,
   "id": "f267154c",
   "metadata": {},
   "outputs": [
    {
     "name": "stdout",
     "output_type": "stream",
     "text": [
      "<class '__main__.pwskills'>\n"
     ]
    }
   ],
   "source": [
    "print(type(akarshan))"
   ]
  },
  {
   "cell_type": "code",
   "execution_count": 20,
   "id": "766b8fd5",
   "metadata": {},
   "outputs": [
    {
     "name": "stdout",
     "output_type": "stream",
     "text": [
      "Welcome to pwskills\n"
     ]
    }
   ],
   "source": [
    "akarshan.welcome_msg()"
   ]
  },
  {
   "cell_type": "code",
   "execution_count": 21,
   "id": "c47d60d1",
   "metadata": {},
   "outputs": [],
   "source": [
    "class pwskills1:\n",
    "    def __init__(self, phone_num, email_id, std_id):\n",
    "        self.phone_num = phone_num\n",
    "        self.email_id = email_id\n",
    "        self.std_id = std_id\n",
    "        \n",
    "    def return_std_details(self):\n",
    "        return self.std_id, self.email_id, self.phone_num\n",
    "    \n",
    "        "
   ]
  },
  {
   "cell_type": "code",
   "execution_count": 23,
   "id": "0c44978a",
   "metadata": {},
   "outputs": [],
   "source": [
    "ayush = pwskills1(981111111, \"ayush@gmail.com\", 1)"
   ]
  },
  {
   "cell_type": "code",
   "execution_count": 26,
   "id": "72305f4b",
   "metadata": {},
   "outputs": [
    {
     "data": {
      "text/plain": [
       "(1, 'ayush@gmail.com', 981111111)"
      ]
     },
     "execution_count": 26,
     "metadata": {},
     "output_type": "execute_result"
    }
   ],
   "source": [
    "ayush.return_std_details()"
   ]
  },
  {
   "cell_type": "code",
   "execution_count": 28,
   "id": "88658497",
   "metadata": {},
   "outputs": [],
   "source": [
    "gaurav = pwskills1(982222222, \"gaurav@gmail.com\", 2)"
   ]
  },
  {
   "cell_type": "code",
   "execution_count": 30,
   "id": "e47f567c",
   "metadata": {},
   "outputs": [
    {
     "data": {
      "text/plain": [
       "(2, 'gaurav@gmail.com', 982222222)"
      ]
     },
     "execution_count": 30,
     "metadata": {},
     "output_type": "execute_result"
    }
   ],
   "source": [
    "gaurav.return_std_details()"
   ]
  },
  {
   "cell_type": "code",
   "execution_count": 31,
   "id": "231a6ceb",
   "metadata": {},
   "outputs": [
    {
     "data": {
      "text/plain": [
       "982222222"
      ]
     },
     "execution_count": 31,
     "metadata": {},
     "output_type": "execute_result"
    }
   ],
   "source": [
    "gaurav.phone_num"
   ]
  },
  {
   "cell_type": "code",
   "execution_count": 32,
   "id": "64e408c4",
   "metadata": {},
   "outputs": [
    {
     "data": {
      "text/plain": [
       "'gaurav@gmail.com'"
      ]
     },
     "execution_count": 32,
     "metadata": {},
     "output_type": "execute_result"
    }
   ],
   "source": [
    "gaurav.email_id"
   ]
  },
  {
   "cell_type": "code",
   "execution_count": null,
   "id": "e43418f1",
   "metadata": {},
   "outputs": [],
   "source": []
  }
 ],
 "metadata": {
  "kernelspec": {
   "display_name": "Python 3 (ipykernel)",
   "language": "python",
   "name": "python3"
  },
  "language_info": {
   "codemirror_mode": {
    "name": "ipython",
    "version": 3
   },
   "file_extension": ".py",
   "mimetype": "text/x-python",
   "name": "python",
   "nbconvert_exporter": "python",
   "pygments_lexer": "ipython3",
   "version": "3.8.8"
  }
 },
 "nbformat": 4,
 "nbformat_minor": 5
}
