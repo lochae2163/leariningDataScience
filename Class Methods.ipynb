{
 "cells": [
  {
   "cell_type": "code",
   "execution_count": 20,
   "id": "3566390b",
   "metadata": {},
   "outputs": [],
   "source": [
    "class pwskills:\n",
    "    def __init__(self, name, email):\n",
    "        self.name = name\n",
    "        self.email = email\n",
    "    \n",
    "    def student_details(self):\n",
    "        print(self.name, self.email)"
   ]
  },
  {
   "cell_type": "code",
   "execution_count": 21,
   "id": "ce650cb4",
   "metadata": {},
   "outputs": [],
   "source": [
    "pw = pwskills(\"Lochan\", \"Lochan@gmail.com\")"
   ]
  },
  {
   "cell_type": "code",
   "execution_count": 22,
   "id": "58239913",
   "metadata": {},
   "outputs": [
    {
     "name": "stdout",
     "output_type": "stream",
     "text": [
      "Lochan Lochan@gmail.com\n"
     ]
    }
   ],
   "source": [
    "pw.student_details()"
   ]
  },
  {
   "cell_type": "code",
   "execution_count": 23,
   "id": "b2308c9b",
   "metadata": {},
   "outputs": [],
   "source": [
    "class pwskills1:\n",
    "    def __init__(self, name, email):\n",
    "        self.name = name\n",
    "        self.email = email\n",
    "    \n",
    "    @classmethod\n",
    "    def details(cls, name, email):\n",
    "        return cls(name, email)\n",
    "    \n",
    "    def student_details(self):\n",
    "        print(self.name, self.email)"
   ]
  },
  {
   "cell_type": "code",
   "execution_count": 24,
   "id": "64f49461",
   "metadata": {},
   "outputs": [],
   "source": [
    "pw1 = pwskills1.details(\"Lochan\", \"Lochan@gmail.com\")"
   ]
  },
  {
   "cell_type": "code",
   "execution_count": 25,
   "id": "4dc51530",
   "metadata": {},
   "outputs": [
    {
     "data": {
      "text/plain": [
       "'Lochan'"
      ]
     },
     "execution_count": 25,
     "metadata": {},
     "output_type": "execute_result"
    }
   ],
   "source": [
    "pw1.name"
   ]
  },
  {
   "cell_type": "code",
   "execution_count": 26,
   "id": "3db08bd2",
   "metadata": {},
   "outputs": [
    {
     "data": {
      "text/plain": [
       "'Lochan@gmail.com'"
      ]
     },
     "execution_count": 26,
     "metadata": {},
     "output_type": "execute_result"
    }
   ],
   "source": [
    "pw1.email"
   ]
  },
  {
   "cell_type": "code",
   "execution_count": 27,
   "id": "078ea06d",
   "metadata": {},
   "outputs": [
    {
     "name": "stdout",
     "output_type": "stream",
     "text": [
      "Lochan Lochan@gmail.com\n"
     ]
    }
   ],
   "source": [
    "pw1.student_details()"
   ]
  },
  {
   "cell_type": "code",
   "execution_count": 28,
   "id": "1cfd906c",
   "metadata": {},
   "outputs": [],
   "source": [
    "class pwskills2:\n",
    "    \n",
    "    mobile_num = 9816122310\n",
    "    \n",
    "    def __init__(self, name, email):\n",
    "        self.name = name\n",
    "        self.email = email\n",
    "        \n",
    "    @classmethod\n",
    "    def change_num(cls,mobile):\n",
    "        pwskills2.mobile_num = mobile\n",
    "    \n",
    "    @classmethod\n",
    "    def details(cls, name, email):\n",
    "        return cls(name, email)\n",
    "    \n",
    "    def student_details(self):\n",
    "        print(self.name, self.email)"
   ]
  },
  {
   "cell_type": "code",
   "execution_count": 29,
   "id": "f168bb9e",
   "metadata": {},
   "outputs": [
    {
     "data": {
      "text/plain": [
       "9816122310"
      ]
     },
     "execution_count": 29,
     "metadata": {},
     "output_type": "execute_result"
    }
   ],
   "source": [
    "pwskills2.mobile_num"
   ]
  },
  {
   "cell_type": "code",
   "execution_count": 30,
   "id": "7e524c49",
   "metadata": {},
   "outputs": [],
   "source": [
    "pwskills2.change_num(9810162310)"
   ]
  },
  {
   "cell_type": "code",
   "execution_count": 31,
   "id": "491a4324",
   "metadata": {},
   "outputs": [
    {
     "data": {
      "text/plain": [
       "9810162310"
      ]
     },
     "execution_count": 31,
     "metadata": {},
     "output_type": "execute_result"
    }
   ],
   "source": [
    "pwskills2.mobile_num"
   ]
  },
  {
   "cell_type": "code",
   "execution_count": 32,
   "id": "e82ba254",
   "metadata": {},
   "outputs": [],
   "source": [
    "pw = pwskills2.details(\"Ayuhsa\", \"Ayusha@gmail.com\")"
   ]
  },
  {
   "cell_type": "code",
   "execution_count": 33,
   "id": "e84848c6",
   "metadata": {},
   "outputs": [
    {
     "name": "stdout",
     "output_type": "stream",
     "text": [
      "Ayuhsa Ayusha@gmail.com\n"
     ]
    }
   ],
   "source": [
    "pw.student_details()"
   ]
  },
  {
   "cell_type": "code",
   "execution_count": 34,
   "id": "8e950bce",
   "metadata": {},
   "outputs": [],
   "source": [
    "class pwskills3:\n",
    "    \n",
    "    mobile_num = 9816122310\n",
    "    \n",
    "    def __init__(self, name, email):\n",
    "        self.name = name\n",
    "        self.email = email\n",
    "        \n",
    "    @classmethod\n",
    "    def change_num(cls,mobile):\n",
    "        pwskills2.mobile_num = mobile\n",
    "    \n",
    "    @classmethod\n",
    "    def details(cls, name, email):\n",
    "        return cls(name, email)\n",
    "    \n",
    "    def student_details(self):\n",
    "        print(self.name, self.email)"
   ]
  },
  {
   "cell_type": "code",
   "execution_count": 35,
   "id": "1fd5b654",
   "metadata": {},
   "outputs": [],
   "source": [
    "def course_details(cls, course_name):\n",
    "    print(\"course name is \", course_name)\n"
   ]
  },
  {
   "cell_type": "code",
   "execution_count": 37,
   "id": "ed4dcd52",
   "metadata": {},
   "outputs": [],
   "source": [
    "pwskills3.course_details = classmethod(course_details)"
   ]
  },
  {
   "cell_type": "code",
   "execution_count": 39,
   "id": "a184d6b4",
   "metadata": {},
   "outputs": [
    {
     "name": "stdout",
     "output_type": "stream",
     "text": [
      "course name is  Data Science\n"
     ]
    }
   ],
   "source": [
    "pwskills3.course_details(\"Data Science\")"
   ]
  },
  {
   "cell_type": "code",
   "execution_count": 40,
   "id": "6daa182c",
   "metadata": {},
   "outputs": [],
   "source": [
    "def mentor(cls, list_of_mentor):\n",
    "    print(list_of_mentor)"
   ]
  },
  {
   "cell_type": "code",
   "execution_count": 41,
   "id": "0f450947",
   "metadata": {},
   "outputs": [],
   "source": [
    "pwskills3.mentor = classmethod(mentor)"
   ]
  },
  {
   "cell_type": "code",
   "execution_count": 42,
   "id": "5a658c3e",
   "metadata": {},
   "outputs": [
    {
     "name": "stdout",
     "output_type": "stream",
     "text": [
      "['Sudh', 'Krish']\n"
     ]
    }
   ],
   "source": [
    "pwskills3.mentor([\"Sudh\", \"Krish\"])"
   ]
  },
  {
   "cell_type": "code",
   "execution_count": 43,
   "id": "54f33e39",
   "metadata": {},
   "outputs": [],
   "source": [
    "class pwskills4:\n",
    "    \n",
    "    mobile_num = 9816122310\n",
    "    \n",
    "    def __init__(self, name, email):\n",
    "        self.name = name\n",
    "        self.email = email\n",
    "        \n",
    "    @classmethod\n",
    "    def change_num(cls,mobile):\n",
    "        pwskills2.mobile_num = mobile\n",
    "    \n",
    "    @classmethod\n",
    "    def details(cls, name, email):\n",
    "        return cls(name, email)\n",
    "    \n",
    "    def student_details(self):\n",
    "        print(self.name, self.email)"
   ]
  },
  {
   "cell_type": "code",
   "execution_count": 44,
   "id": "27ab0732",
   "metadata": {},
   "outputs": [],
   "source": [
    "del pwskills4.change_num"
   ]
  },
  {
   "cell_type": "code",
   "execution_count": 45,
   "id": "b01166a8",
   "metadata": {},
   "outputs": [],
   "source": [
    "delattr(pwskills4, \"details\")"
   ]
  },
  {
   "cell_type": "code",
   "execution_count": 46,
   "id": "9ca69664",
   "metadata": {},
   "outputs": [],
   "source": [
    "delattr(pwskills4, \"student_details\")"
   ]
  },
  {
   "cell_type": "code",
   "execution_count": 47,
   "id": "71db0207",
   "metadata": {},
   "outputs": [],
   "source": [
    "delattr(pwskills4, \"mobile_num\")"
   ]
  },
  {
   "cell_type": "code",
   "execution_count": null,
   "id": "ba670094",
   "metadata": {},
   "outputs": [],
   "source": []
  }
 ],
 "metadata": {
  "kernelspec": {
   "display_name": "Python 3 (ipykernel)",
   "language": "python",
   "name": "python3"
  },
  "language_info": {
   "codemirror_mode": {
    "name": "ipython",
    "version": 3
   },
   "file_extension": ".py",
   "mimetype": "text/x-python",
   "name": "python",
   "nbconvert_exporter": "python",
   "pygments_lexer": "ipython3",
   "version": "3.8.8"
  }
 },
 "nbformat": 4,
 "nbformat_minor": 5
}
