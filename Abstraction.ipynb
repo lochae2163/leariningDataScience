{
 "cells": [
  {
   "cell_type": "code",
   "execution_count": 4,
   "id": "7910ce1c",
   "metadata": {},
   "outputs": [],
   "source": [
    "import abc\n",
    "class pwskills:\n",
    "    \n",
    "    @abc.abstractclassmethod\n",
    "    def student_details(self):\n",
    "        pass\n",
    "    \n",
    "    @abc.abstractclassmethod\n",
    "    def student_assignments(self):\n",
    "        pass\n",
    "    \n",
    "    @abc.abstractclassmethod\n",
    "    def student_marks(self):\n",
    "        pass"
   ]
  },
  {
   "cell_type": "code",
   "execution_count": 6,
   "id": "110d632b",
   "metadata": {},
   "outputs": [],
   "source": [
    "class student_details(pwskills):\n",
    "    def student_details(self):\n",
    "        return \"For student details\"\n",
    "    \n",
    "    def student_assignments(self):\n",
    "        return \"For student assignments\""
   ]
  },
  {
   "cell_type": "code",
   "execution_count": 7,
   "id": "69a009c1",
   "metadata": {},
   "outputs": [],
   "source": [
    "class data_science_masters(pwskills):\n",
    "    \n",
    "    def student_details(self):\n",
    "        return \"For data science masters\"\n",
    "    \n",
    "\n",
    "    def student_assignments(self):\n",
    "        return \"For data science assignments\""
   ]
  },
  {
   "cell_type": "code",
   "execution_count": 9,
   "id": "e729a49b",
   "metadata": {},
   "outputs": [
    {
     "data": {
      "text/plain": [
       "'For data science masters'"
      ]
     },
     "execution_count": 9,
     "metadata": {},
     "output_type": "execute_result"
    }
   ],
   "source": [
    "dsm = data_science_masters()\n",
    "dsm.student_details()"
   ]
  },
  {
   "cell_type": "code",
   "execution_count": 10,
   "id": "47890b12",
   "metadata": {},
   "outputs": [
    {
     "data": {
      "text/plain": [
       "'For student details'"
      ]
     },
     "execution_count": 10,
     "metadata": {},
     "output_type": "execute_result"
    }
   ],
   "source": [
    "sd = student_details()\n",
    "sd.student_details()"
   ]
  },
  {
   "cell_type": "code",
   "execution_count": null,
   "id": "07a17fc5",
   "metadata": {},
   "outputs": [],
   "source": []
  }
 ],
 "metadata": {
  "kernelspec": {
   "display_name": "Python 3 (ipykernel)",
   "language": "python",
   "name": "python3"
  },
  "language_info": {
   "codemirror_mode": {
    "name": "ipython",
    "version": 3
   },
   "file_extension": ".py",
   "mimetype": "text/x-python",
   "name": "python",
   "nbconvert_exporter": "python",
   "pygments_lexer": "ipython3",
   "version": "3.8.8"
  }
 },
 "nbformat": 4,
 "nbformat_minor": 5
}
